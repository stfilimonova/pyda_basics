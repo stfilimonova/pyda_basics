{
 "cells": [
  {
   "cell_type": "markdown",
   "metadata": {},
   "source": [
    "# Домашнее задание к лекции \"Основы Python\""
   ]
  },
  {
   "cell_type": "markdown",
   "metadata": {},
   "source": [
    "## Задание 1"
   ]
  },
  {
   "cell_type": "markdown",
   "metadata": {},
   "source": [
    "Даны 2 переменных, в которых хранятся строки произвольной длины: *phrase_1* и *phrase_2*.  \n",
    "Напишите код, который проверяет какая из этих строк длиннее."
   ]
  },
  {
   "cell_type": "code",
   "execution_count": 1,
   "metadata": {},
   "outputs": [
    {
     "name": "stdout",
     "output_type": "stream",
     "text": [
      "фраза 1 длиннее фразы 2\n"
     ]
    }
   ],
   "source": [
    "phrase_1 = 'Насколько проще было бы писать программы, если бы не заказчики'\n",
    "phrase_2 = '640Кб должно хватить для любых задач. Билл Гейтс (по легенде)'\n",
    "if phrase_1 > phrase_2:\n",
    "    print('фраза 1 длиннее фразы 2')\n",
    "elif phrase_2 > phrase_1:\n",
    "    print('фраза 2 длиннее фразы 1')\n",
    "else:\n",
    "    print('фразы равной длины')"
   ]
  },
  {
   "cell_type": "markdown",
   "metadata": {},
   "source": [
    "## Задание 2"
   ]
  },
  {
   "cell_type": "markdown",
   "metadata": {},
   "source": [
    "Дана переменная, в которой хранится четырехзначное число (год). Необходимо написать программу, которая выведет, является ли данный год високосным или обычным."
   ]
  },
  {
   "cell_type": "code",
   "execution_count": 1,
   "metadata": {},
   "outputs": [
    {
     "name": "stdout",
     "output_type": "stream",
     "text": [
      "високосный\n"
     ]
    }
   ],
   "source": [
    "year = 2020\n",
    "if year%4 == 0 and (year%100 != 0 or year%400 == 0):\n",
    "    print('високосный')\n",
    "else:\n",
    "    print('не високосный')"
   ]
  },
  {
   "cell_type": "markdown",
   "metadata": {},
   "source": [
    "## Задание 3"
   ]
  },
  {
   "cell_type": "markdown",
   "metadata": {},
   "source": [
    "Необходимо написать программу, которая будет запрашивать у пользователя месяц и дату рождения и выводить соответствующий знак зодиака."
   ]
  },
  {
   "cell_type": "code",
   "execution_count": 7,
   "metadata": {},
   "outputs": [
    {
     "name": "stdout",
     "output_type": "stream",
     "text": [
      "Введите дату рождения\n",
      "Месяц:январь\n",
      "День:3\n",
      "Козерог\n"
     ]
    }
   ],
   "source": [
    "print('Введите дату рождения')\n",
    "bmonth = input('Месяц:')\n",
    "bday = int(input('День:'))\n",
    "if (bmonth ==\"март\" and bday>=21) or (bmonth==\"апрель\" and bday<=20):\n",
    "    print('Овен')\n",
    "elif (bmonth==\"апрель\" and bday>=21) or (bmonth==\"май\" and bday<=20):\n",
    "    print('Телец')\n",
    "elif (bmonth==\"май\" and bday>=21) or (bmonth==\"июнь\" and bday<=20):\n",
    "    print('Близнецы')\n",
    "elif (bmonth==\"июнь\" and bday>=21) or (bmonth==\"июль\" and bday<=20):\n",
    "    print('Рак')\n",
    "elif (bmonth==\"июль\" and bday>=21) or (bmonth==\"август\" and bday<=20):\n",
    "    print('Лев')\n",
    "elif (bmonth==\"август\" and bday>=21) or (bmonth==\"сентябрь\" and bday<=20):\n",
    "    print('Дева')\n",
    "elif (bmonth==\"сентябрь\" and bday>=21) or (bmonth==\"октябрь\" and bday<=20):\n",
    "    print('Весы')\n",
    "elif (bmonth==\"октябрь\" and bday>=21) or (bmonth==\"ноябрь\" and bday<=20):\n",
    "    print('Скорпион')\n",
    "elif (bmonth==\"ноябрь\" and bday>=21) or (bmonth==\"декабрь\" and bday<=20):\n",
    "    print('Стрелец')\n",
    "elif (bmonth==\"декабрь\" and bday>=21) or (bmonth==\"январь\" and bday<=20):\n",
    "    print('Козерог')\n",
    "elif (bmonth==\"январь\" and bday>=21) or (bmonth==\"февраль\" and bday<=20):\n",
    "    print('Водолей')\n",
    "elif (bmonth==\"февраль\" and bday>=21) or (bmonth==\"март\" and bday<=20):\n",
    "    print('Рыбы')"
   ]
  },
  {
   "cell_type": "markdown",
   "metadata": {},
   "source": [
    "## Задание 4"
   ]
  },
  {
   "cell_type": "markdown",
   "metadata": {},
   "source": [
    "Вам нужно написать программу для подбора упаковок по размерам товара. Размеры хранятся в переменных (в сантиметрах):\n",
    "\n",
    "```\n",
    "width = 10\n",
    "length = 205\n",
    "height = 5\n",
    "```\n",
    "\n",
    "Используйте следующие правила:\n",
    "- если каждое из трех измерений менее 15 сантиметров, то выведите на экран \"Коробка №1\";\n",
    "- если хотя бы одно из измерений больше 15 сантиметров, но менее 50 сантиметров, то выводите \"Коробка №2\";\n",
    "- если длина товара больше 2 метров, то выводите \"Упаковка для лыж\";\n",
    "- во всех остальных случаях выводите \"Стандартная коробка №3\".\n"
   ]
  },
  {
   "cell_type": "code",
   "execution_count": 1,
   "metadata": {},
   "outputs": [
    {
     "name": "stdout",
     "output_type": "stream",
     "text": [
      "Упаковка для лыж\n"
     ]
    }
   ],
   "source": [
    "width = 10\n",
    "length = 205\n",
    "height = 5\n",
    "if width<15 and length<15 and height<15:\n",
    "    print('Коробка №1')\n",
    "elif (width<50 and length<50 and height<50) and (width>15 or length>15 or height>15):\n",
    "     print('Коробка №2')\n",
    "elif (width>200 or length>200 or height>200):\n",
    "     print('Упаковка для лыж')\n",
    "else:\n",
    "     print('Стандартная коробка №3')"
   ]
  },
  {
   "cell_type": "markdown",
   "metadata": {},
   "source": [
    "## Задание 5 (необязательное)"
   ]
  },
  {
   "cell_type": "markdown",
   "metadata": {},
   "source": [
    "Дана переменная, в которой хранится шестизначное число (номер проездного билета). Напишите программу, которая будет определять, является ли данный билет \"счастливым\". Билет считается счастливым, если сумма первых трех цифр совпадает с суммой последних трех цифр номера.   "
   ]
  },
  {
   "cell_type": "code",
   "execution_count": 1,
   "metadata": {},
   "outputs": [
    {
     "name": "stdout",
     "output_type": "stream",
     "text": [
      "счастливый\n"
     ]
    }
   ],
   "source": [
    "number = 123321\n",
    "if (number%1000000//100000)+(number%100000//10000)+(number%10000//1000) == (number%1000//100)+(number%100//10)+number%10:\n",
    "    print('счастливый')\n",
    "else:\n",
    "    print('не счастливый')"
   ]
  },
  {
   "cell_type": "markdown",
   "metadata": {},
   "source": [
    "## Задание 6 (необязательное)"
   ]
  },
  {
   "cell_type": "markdown",
   "metadata": {},
   "source": [
    "Напишите программу, которая сможет вычислять площади трех фигур (круг, треугольник и прямоугольник).\n",
    "Тип фигуры запрашиваем через пользовательский ввод, после чего делаем запрос характеристик фигуры."
   ]
  },
  {
   "cell_type": "code",
   "execution_count": 1,
   "metadata": {},
   "outputs": [
    {
     "name": "stdout",
     "output_type": "stream",
     "text": [
      "Введите фигуру:треугольник\n",
      "Задайте первую сторону:2\n",
      "Задайте вторую сторону:2\n",
      "Задайте третью сторону:3\n",
      "Площадь: 1.98\n"
     ]
    }
   ],
   "source": [
    "import math\n",
    "figure = input('Введите фигуру:')\n",
    "if figure=='круг':\n",
    "    radius=int(input('Задайте радиус:'))\n",
    "    print('Площадь:', round(math.pi*(radius)**2,2))\n",
    "elif figure=='треугольник':\n",
    "    side1=int(input('Задайте первую сторону:'))\n",
    "    side2=int(input('Задайте вторую сторону:'))\n",
    "    side3=int(input('Задайте третью сторону:'))\n",
    "    p=(side1+side2+side3)/2\n",
    "    print('Площадь:', round(math.sqrt(p*(p-side1)*(p-side2)*(p-side3)),2))\n",
    "elif figure=='прямоугольник':\n",
    "    side1=int(input('Задайте первую сторону:'))\n",
    "    side2=int(input('Задайте вторую сторону:'))\n",
    "    print('Площадь:', round(side1*side2,2))"
   ]
  }
 ],
 "metadata": {
  "kernelspec": {
   "display_name": "Python 3",
   "language": "python",
   "name": "python3"
  },
  "language_info": {
   "codemirror_mode": {
    "name": "ipython",
    "version": 3
   },
   "file_extension": ".py",
   "mimetype": "text/x-python",
   "name": "python",
   "nbconvert_exporter": "python",
   "pygments_lexer": "ipython3",
   "version": "3.8.3"
  }
 },
 "nbformat": 4,
 "nbformat_minor": 2
}
